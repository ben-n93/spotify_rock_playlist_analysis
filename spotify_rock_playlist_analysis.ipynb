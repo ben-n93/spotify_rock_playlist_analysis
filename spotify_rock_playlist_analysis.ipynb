{
 "cells": [
  {
   "cell_type": "markdown",
   "id": "f8a8f84c",
   "metadata": {
    "kernelspec": {
     "display_name": "Python 3",
     "language": "python",
     "name": "python3"
    },
    "pelican": {
     "date": "2023-11-11",
     "description": "Analysing my rock playlist using Spotify's WebAPI for content metadata.",
     "tags": "data-analysis, data-visualisation, Python, pandas",
     "title": "Analysing my Spotify rock playlist"
    }
   },
   "source": [
    "# Analysing my Spotify rock playlist\n",
    "\n",
    "Since 2015 I've been adding my most-liked rock songs to the aptly named playlist *Favourite Rock*.\n",
    "\n",
    "\n",
    "I thought it'd be fun to use content metadata from Spotify's [Web API](https://developer.spotify.com/documentation/web-api) to learn more about my taste in rock music, such as favourite music era and how often I've added to the playlist over the years."
   ]
  },
  {
   "cell_type": "code",
   "execution_count": 16,
   "id": "b6eccc11",
   "metadata": {},
   "outputs": [],
   "source": [
    "import os\n",
    "\n",
    "import requests\n",
    "import pandas as pd"
   ]
  },
  {
   "cell_type": "markdown",
   "id": "980f40c6",
   "metadata": {},
   "source": [
    "## Getting the data"
   ]
  },
  {
   "cell_type": "code",
   "execution_count": 17,
   "id": "d6d371d1",
   "metadata": {},
   "outputs": [],
   "source": [
    "# Getting the API access token.\n",
    "url = \"https://accounts.spotify.com/api/token\"\n",
    "\n",
    "headers = {\n",
    "    \"Content-Type\": \"application/x-www-form-urlencoded\"\n",
    "}\n",
    "\n",
    "data = {\n",
    "    \"grant_type\": \"client_credentials\",\n",
    "    \"client_id\": os.environ['SPOTIFY_CLIENT_ID'],\n",
    "    \"client_secret\": os.environ['SPOTIFY_CLIENT_SECRET']\n",
    "}\n",
    "\n",
    "response = requests.post(url, headers=headers, data=data)\n",
    "token = response.json()['access_token']"
   ]
  },
  {
   "cell_type": "markdown",
   "id": "4d57bdc0",
   "metadata": {},
   "source": [
    "The **[Get Playlist Items](https://developer.spotify.com/documentation/web-api/reference/get-playlists-tracks)** endpoint returns a maximum of 50 items (tracks/songs). \n",
    "\n",
    "However in the API call you can specify the index of the first item to return, a parameter which you can take advantage of to make multiple API calls to capture all songs on the playlist:"
   ]
  },
  {
   "cell_type": "code",
   "execution_count": 18,
   "id": "f981b45b",
   "metadata": {},
   "outputs": [
    {
     "data": {
      "text/plain": [
       "True"
      ]
     },
     "execution_count": 18,
     "metadata": {},
     "output_type": "execute_result"
    }
   ],
   "source": [
    "# Getting all the songs in my Favourite Rock playlist.\n",
    "headers = {\n",
    "    \"Authorization\": f\"Bearer {token}\"\n",
    "}\n",
    "\n",
    "tracks = []\n",
    "for number in range(0, 520, 50):\n",
    "    response = requests.get(f\"https://api.spotify.com/v1/playlists/{os.environ['PLAYLIST_ID']}/tracks?limit=50&offset={number}\", headers=headers)\n",
    "    data = response.json()\n",
    "    tracks = tracks + (data['items'])\n",
    "\n",
    "# Double check that my list contains all the playlist songs.\n",
    "data['total'] == len(tracks) "
   ]
  },
  {
   "cell_type": "markdown",
   "id": "57309dd4",
   "metadata": {},
   "source": [
    "## Transforming the data\n",
    "Not all of the metadata returned from the API is relevant, as you can infer from a look at the following JSON keys (for example, 'video_thumbnail'), or structured in a way that can be passed to a pandas DataFrame immediately. "
   ]
  },
  {
   "cell_type": "code",
   "execution_count": 19,
   "id": "6670a150",
   "metadata": {},
   "outputs": [
    {
     "data": {
      "text/plain": [
       "dict_keys(['added_at', 'added_by', 'is_local', 'primary_color', 'track', 'video_thumbnail'])"
      ]
     },
     "execution_count": 19,
     "metadata": {},
     "output_type": "execute_result"
    }
   ],
   "source": [
    "tracks[0].keys()"
   ]
  },
  {
   "cell_type": "markdown",
   "id": "7b167222",
   "metadata": {},
   "source": [
    "The artist name is nested with the 'artists' key."
   ]
  },
  {
   "cell_type": "code",
   "execution_count": 20,
   "id": "4a9b1252",
   "metadata": {},
   "outputs": [
    {
     "data": {
      "text/plain": [
       "[{'external_urls': {'spotify': 'https://open.spotify.com/artist/6bUJpbekaIlq2fT5FMV2mQ'},\n",
       "  'href': 'https://api.spotify.com/v1/artists/6bUJpbekaIlq2fT5FMV2mQ',\n",
       "  'id': '6bUJpbekaIlq2fT5FMV2mQ',\n",
       "  'name': 'Wavves',\n",
       "  'type': 'artist',\n",
       "  'uri': 'spotify:artist:6bUJpbekaIlq2fT5FMV2mQ'}]"
      ]
     },
     "execution_count": 20,
     "metadata": {},
     "output_type": "execute_result"
    }
   ],
   "source": [
    "tracks[0]['track']['artists']"
   ]
  },
  {
   "cell_type": "code",
   "execution_count": 21,
   "id": "22cd2bb9",
   "metadata": {},
   "outputs": [],
   "source": [
    "# Creating a list of track dictionaries.\n",
    "new_tracks = []\n",
    "for track in tracks:\n",
    "    new_track = track['track']\n",
    "    new_track['added_at'] = track['added_at']\n",
    "    new_track['release_date'] = track['track']['album']['release_date']\n",
    "    new_track['artist_name'] = track['track']['artists'][0]['name']\n",
    "    new_tracks.append(new_track)"
   ]
  },
  {
   "cell_type": "code",
   "execution_count": 22,
   "id": "76309b7e",
   "metadata": {
    "scrolled": true
   },
   "outputs": [
    {
     "data": {
      "text/html": [
       "<div>\n",
       "<style scoped>\n",
       "    .dataframe tbody tr th:only-of-type {\n",
       "        vertical-align: middle;\n",
       "    }\n",
       "\n",
       "    .dataframe tbody tr th {\n",
       "        vertical-align: top;\n",
       "    }\n",
       "\n",
       "    .dataframe thead th {\n",
       "        text-align: right;\n",
       "    }\n",
       "</style>\n",
       "<table border=\"1\" class=\"dataframe\">\n",
       "  <thead>\n",
       "    <tr style=\"text-align: right;\">\n",
       "      <th></th>\n",
       "      <th>artist_name</th>\n",
       "      <th>track_name</th>\n",
       "      <th>duration_ms</th>\n",
       "      <th>release_date</th>\n",
       "      <th>added_at</th>\n",
       "    </tr>\n",
       "  </thead>\n",
       "  <tbody>\n",
       "    <tr>\n",
       "      <th>0</th>\n",
       "      <td>Wavves</td>\n",
       "      <td>Way Too Much</td>\n",
       "      <td>153640</td>\n",
       "      <td>2015-07-21</td>\n",
       "      <td>2015-11-01T13:20:26Z</td>\n",
       "    </tr>\n",
       "    <tr>\n",
       "      <th>1</th>\n",
       "      <td>The Rubens</td>\n",
       "      <td>Hoops</td>\n",
       "      <td>158973</td>\n",
       "      <td>2015-08-07</td>\n",
       "      <td>2015-11-01T13:17:48Z</td>\n",
       "    </tr>\n",
       "    <tr>\n",
       "      <th>2</th>\n",
       "      <td>Lurch &amp; Chief</td>\n",
       "      <td>Keep It Together</td>\n",
       "      <td>236280</td>\n",
       "      <td>2014-10-17</td>\n",
       "      <td>2015-11-01T13:23:21Z</td>\n",
       "    </tr>\n",
       "    <tr>\n",
       "      <th>3</th>\n",
       "      <td>Violent Soho</td>\n",
       "      <td>Covered in Chrome</td>\n",
       "      <td>212546</td>\n",
       "      <td>2013-09-06</td>\n",
       "      <td>2015-11-03T07:05:03Z</td>\n",
       "    </tr>\n",
       "    <tr>\n",
       "      <th>4</th>\n",
       "      <td>Foo Fighters</td>\n",
       "      <td>Everlong</td>\n",
       "      <td>250546</td>\n",
       "      <td>1997-05-20</td>\n",
       "      <td>2015-11-01T13:17:59Z</td>\n",
       "    </tr>\n",
       "    <tr>\n",
       "      <th>...</th>\n",
       "      <td>...</td>\n",
       "      <td>...</td>\n",
       "      <td>...</td>\n",
       "      <td>...</td>\n",
       "      <td>...</td>\n",
       "    </tr>\n",
       "    <tr>\n",
       "      <th>515</th>\n",
       "      <td>Ainslie Wills</td>\n",
       "      <td>Drive</td>\n",
       "      <td>301910</td>\n",
       "      <td>2015-09-14</td>\n",
       "      <td>2023-11-05T12:28:19Z</td>\n",
       "    </tr>\n",
       "    <tr>\n",
       "      <th>516</th>\n",
       "      <td>Sonic Youth</td>\n",
       "      <td>Sunday</td>\n",
       "      <td>292306</td>\n",
       "      <td>1998-01-01</td>\n",
       "      <td>2023-11-05T12:31:29Z</td>\n",
       "    </tr>\n",
       "    <tr>\n",
       "      <th>517</th>\n",
       "      <td>Brand New</td>\n",
       "      <td>The Quiet Things That No One Ever Knows</td>\n",
       "      <td>241640</td>\n",
       "      <td>2003</td>\n",
       "      <td>2023-11-05T12:36:23Z</td>\n",
       "    </tr>\n",
       "    <tr>\n",
       "      <th>518</th>\n",
       "      <td>Chastity Belt</td>\n",
       "      <td>Lydia</td>\n",
       "      <td>239826</td>\n",
       "      <td>2015-03-23</td>\n",
       "      <td>2023-11-05T12:40:02Z</td>\n",
       "    </tr>\n",
       "    <tr>\n",
       "      <th>519</th>\n",
       "      <td>The Velvet Underground</td>\n",
       "      <td>Oh! Sweet Nuthin'</td>\n",
       "      <td>444778</td>\n",
       "      <td>1970</td>\n",
       "      <td>2023-11-07T08:31:32Z</td>\n",
       "    </tr>\n",
       "  </tbody>\n",
       "</table>\n",
       "<p>520 rows × 5 columns</p>\n",
       "</div>"
      ],
      "text/plain": [
       "                artist_name                               track_name  \\\n",
       "0                    Wavves                             Way Too Much   \n",
       "1                The Rubens                                    Hoops   \n",
       "2             Lurch & Chief                         Keep It Together   \n",
       "3              Violent Soho                        Covered in Chrome   \n",
       "4              Foo Fighters                                 Everlong   \n",
       "..                      ...                                      ...   \n",
       "515           Ainslie Wills                                    Drive   \n",
       "516             Sonic Youth                                   Sunday   \n",
       "517               Brand New  The Quiet Things That No One Ever Knows   \n",
       "518           Chastity Belt                                    Lydia   \n",
       "519  The Velvet Underground                        Oh! Sweet Nuthin'   \n",
       "\n",
       "     duration_ms release_date              added_at  \n",
       "0         153640   2015-07-21  2015-11-01T13:20:26Z  \n",
       "1         158973   2015-08-07  2015-11-01T13:17:48Z  \n",
       "2         236280   2014-10-17  2015-11-01T13:23:21Z  \n",
       "3         212546   2013-09-06  2015-11-03T07:05:03Z  \n",
       "4         250546   1997-05-20  2015-11-01T13:17:59Z  \n",
       "..           ...          ...                   ...  \n",
       "515       301910   2015-09-14  2023-11-05T12:28:19Z  \n",
       "516       292306   1998-01-01  2023-11-05T12:31:29Z  \n",
       "517       241640         2003  2023-11-05T12:36:23Z  \n",
       "518       239826   2015-03-23  2023-11-05T12:40:02Z  \n",
       "519       444778         1970  2023-11-07T08:31:32Z  \n",
       "\n",
       "[520 rows x 5 columns]"
      ]
     },
     "execution_count": 22,
     "metadata": {},
     "output_type": "execute_result"
    }
   ],
   "source": [
    "df = pd.DataFrame(new_tracks)\n",
    "# Keeping only relevant columns.\n",
    "df = df[['artist_name', 'name', 'duration_ms', 'release_date', 'added_at']]\n",
    "df= df.rename(columns={'name':'track_name'})\n",
    "df"
   ]
  },
  {
   "cell_type": "markdown",
   "id": "feb7fa8b",
   "metadata": {},
   "source": [
    "## Data analysis\n",
    "\n",
    "Now that we have a pandas DataFrame I can start doing some data analysis.\n",
    "\n",
    "### Which artist appears the most frequently?\n",
    "I was curious to see which artist has the most songs featured on the playlist.\n",
    "\n",
    "Unsuprisingly it was my favourite band - Nirvana!"
   ]
  },
  {
   "cell_type": "code",
   "execution_count": 23,
   "id": "c8167abf",
   "metadata": {
    "scrolled": true
   },
   "outputs": [
    {
     "data": {
      "text/plain": [
       "artist_name\n",
       "Nirvana    15\n",
       "Name: count, dtype: int64"
      ]
     },
     "execution_count": 23,
     "metadata": {},
     "output_type": "execute_result"
    }
   ],
   "source": [
    "most_popular_artists = df['artist_name'].value_counts()\n",
    "most_popular_artists.head(1)"
   ]
  },
  {
   "cell_type": "markdown",
   "id": "785390a5",
   "metadata": {},
   "source": [
    "### What is the shortest and longest song in the playlist?"
   ]
  },
  {
   "cell_type": "code",
   "execution_count": 24,
   "id": "0723092d",
   "metadata": {},
   "outputs": [],
   "source": [
    "# Creating a more readable song length column.\n",
    "df['song_length'] = round(df['duration_ms'] / 60000, 2)"
   ]
  },
  {
   "cell_type": "code",
   "execution_count": 25,
   "id": "b1800b43",
   "metadata": {},
   "outputs": [
    {
     "name": "stdout",
     "output_type": "stream",
     "text": [
      "Song: Beach Life-In-Death, Artist: Car Seat Headrest, Song length: 13.31\n"
     ]
    }
   ],
   "source": [
    "max_length_index = df['song_length'].idxmax()\n",
    "max_song = df.loc[max_length_index]\n",
    "print(f\"Song: {max_song.iloc[1]}, Artist: {max_song.iloc[0]}, Song length: {max_song.iloc[5]}\")"
   ]
  },
  {
   "cell_type": "markdown",
   "id": "d96efc12",
   "metadata": {},
   "source": [
    "13 minutes!"
   ]
  },
  {
   "cell_type": "code",
   "execution_count": 26,
   "id": "f05074e4",
   "metadata": {},
   "outputs": [
    {
     "name": "stdout",
     "output_type": "stream",
     "text": [
      "Song: We See U, Artist: Speed, Song length: 1.06\n"
     ]
    }
   ],
   "source": [
    "min_length_index = df['song_length'].idxmin()\n",
    "min_song = df.loc[min_length_index]\n",
    "print(f\"Song: {min_song.iloc[1]}, Artist: {min_song.iloc[0]}, Song length: {min_song.iloc[5]}\")"
   ]
  },
  {
   "cell_type": "markdown",
   "id": "27aa2ebf",
   "metadata": {},
   "source": [
    "### How many songs have I added to the playlist over the years?\n",
    "I was curious to see if I added a similar number of songs per year since creating the playlist."
   ]
  },
  {
   "cell_type": "code",
   "execution_count": 27,
   "id": "7b7fac10",
   "metadata": {
    "scrolled": true
   },
   "outputs": [
    {
     "data": {
      "text/plain": [
       "<Axes: xlabel='year_added'>"
      ]
     },
     "execution_count": 27,
     "metadata": {},
     "output_type": "execute_result"
    },
    {
     "data": {
      "image/png": "[encoded data removed]",
      "text/plain": [
       "<Figure size 640x480 with 1 Axes>"
      ]
     },
     "metadata": {},
     "output_type": "display_data"
    }
   ],
   "source": [
    "df['year_added'] = df['added_at'].str[:4] # Creating a year_added column.\n",
    "songs_per_years = df['year_added'].value_counts().sort_index()\n",
    "songs_per_years.plot()"
   ]
  },
  {
   "cell_type": "markdown",
   "id": "3a5cbb09",
   "metadata": {},
   "source": [
    "### What era of rock music is most represented?\n",
    "Perhaps unsuprisingly given my age (30 at time of writing), the 2010s were the most popular decade when looking at the number of songs added to the playlist by decade released."
   ]
  },
  {
   "cell_type": "code",
   "execution_count": 28,
   "id": "49682483",
   "metadata": {
    "scrolled": false
   },
   "outputs": [
    {
     "data": {
      "text/plain": [
       "<Axes: xlabel='release_date_decade'>"
      ]
     },
     "execution_count": 28,
     "metadata": {},
     "output_type": "execute_result"
    },
    {
     "data": {
      "image/png": "[encoded data removed]",
      "text/plain": [
       "<Figure size 640x480 with 1 Axes>"
      ]
     },
     "metadata": {},
     "output_type": "display_data"
    }
   ],
   "source": [
    "df['release_date_decade'] = df['release_date'].str[:3] + \"0s\"\n",
    "rock_era_song_count = df['release_date_decade'].value_counts().sort_index()\n",
    "rock_era_song_count.plot(kind=\"bar\", rot=0)"
   ]
  },
  {
   "cell_type": "markdown",
   "id": "23624226",
   "metadata": {},
   "source": [
    "### Looking at each era individually, which artist had the most songs featured in my playlist?"
   ]
  },
  {
   "cell_type": "code",
   "execution_count": 29,
   "id": "7fdb1e0b",
   "metadata": {
    "scrolled": true
   },
   "outputs": [
    {
     "data": {
      "text/html": [
       "<div>\n",
       "<style scoped>\n",
       "    .dataframe tbody tr th:only-of-type {\n",
       "        vertical-align: middle;\n",
       "    }\n",
       "\n",
       "    .dataframe tbody tr th {\n",
       "        vertical-align: top;\n",
       "    }\n",
       "\n",
       "    .dataframe thead th {\n",
       "        text-align: right;\n",
       "    }\n",
       "</style>\n",
       "<table border=\"1\" class=\"dataframe\">\n",
       "  <thead>\n",
       "    <tr style=\"text-align: right;\">\n",
       "      <th></th>\n",
       "      <th>release_date_decade</th>\n",
       "      <th>artist_name</th>\n",
       "      <th>song_count</th>\n",
       "    </tr>\n",
       "  </thead>\n",
       "  <tbody>\n",
       "    <tr>\n",
       "      <th>0</th>\n",
       "      <td>1960s</td>\n",
       "      <td>The Beatles</td>\n",
       "      <td>1</td>\n",
       "    </tr>\n",
       "    <tr>\n",
       "      <th>3</th>\n",
       "      <td>1970s</td>\n",
       "      <td>David Bowie</td>\n",
       "      <td>2</td>\n",
       "    </tr>\n",
       "    <tr>\n",
       "      <th>15</th>\n",
       "      <td>1980s</td>\n",
       "      <td>Descendents</td>\n",
       "      <td>5</td>\n",
       "    </tr>\n",
       "    <tr>\n",
       "      <th>44</th>\n",
       "      <td>1990s</td>\n",
       "      <td>Nirvana</td>\n",
       "      <td>10</td>\n",
       "    </tr>\n",
       "    <tr>\n",
       "      <th>87</th>\n",
       "      <td>2000s</td>\n",
       "      <td>NOFX</td>\n",
       "      <td>8</td>\n",
       "    </tr>\n",
       "    <tr>\n",
       "      <th>283</th>\n",
       "      <td>2010s</td>\n",
       "      <td>Violent Soho</td>\n",
       "      <td>8</td>\n",
       "    </tr>\n",
       "    <tr>\n",
       "      <th>294</th>\n",
       "      <td>2020s</td>\n",
       "      <td>Amyl and The Sniffers</td>\n",
       "      <td>6</td>\n",
       "    </tr>\n",
       "  </tbody>\n",
       "</table>\n",
       "</div>"
      ],
      "text/plain": [
       "    release_date_decade            artist_name  song_count\n",
       "0                 1960s            The Beatles           1\n",
       "3                 1970s            David Bowie           2\n",
       "15                1980s            Descendents           5\n",
       "44                1990s                Nirvana          10\n",
       "87                2000s                   NOFX           8\n",
       "283               2010s           Violent Soho           8\n",
       "294               2020s  Amyl and The Sniffers           6"
      ]
     },
     "execution_count": 29,
     "metadata": {},
     "output_type": "execute_result"
    }
   ],
   "source": [
    "era_artists = df.groupby(['release_date_decade', 'artist_name']).size().reset_index(name='song_count')\n",
    "max_count_id = era_artists.groupby('release_date_decade')['song_count'].idxmax()\n",
    "top_artists_per_era = era_artists.loc[max_count_id]\n",
    "top_artists_per_era"
   ]
  },
  {
   "cell_type": "markdown",
   "id": "2697edbf",
   "metadata": {},
   "source": [
    "## Conclusion\n",
    "\n",
    "Some interesting insights came out of this analysis, my favourites of which include:\n",
    "\n",
    "- The longest song on my playlist is over 13 minutes long and the shortest is just over a minute long.\n",
    "\n",
    "- The 2010s are my favourite era of rock music, going off of the number of songs from each decade of rock music.\n",
    "\n",
    "- I added the most songs to the playlist in 2016 but since 2020 I've been adding more and more songs every year. \n",
    "\n",
    "Thanks for reading!\n",
    "\n",
    "You can find this Jupyter Notebook in this [Github repo](https://github.com/ben-n93/spotify_rock_playlist_analysis)."
   ]
  }
 ],
 "metadata": {
  "kernelspec": {
   "display_name": "Python 3 (ipykernel)",
   "language": "python",
   "name": "python3"
  },
  "language_info": {
   "codemirror_mode": {
    "name": "ipython",
    "version": 3
   },
   "file_extension": ".py",
   "mimetype": "text/x-python",
   "name": "python",
   "nbconvert_exporter": "python",
   "pygments_lexer": "ipython3",
   "version": "3.10.4"
  }
 },
 "nbformat": 4,
 "nbformat_minor": 5
}
